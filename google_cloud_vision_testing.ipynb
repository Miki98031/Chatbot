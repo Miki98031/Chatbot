{
 "cells": [
  {
   "cell_type": "code",
   "execution_count": 1,
   "id": "ae20602d-70e2-46d2-90e7-4c028f424164",
   "metadata": {},
   "outputs": [],
   "source": [
    "from google.cloud import vision\n",
    "from google.cloud.vision import Image"
   ]
  },
  {
   "cell_type": "code",
   "execution_count": 2,
   "id": "950584cc-80b2-4e05-821f-3e017bf8d1cd",
   "metadata": {},
   "outputs": [],
   "source": [
    "import os\n",
    "os.environ[\"GOOGLE_APPLICATION_CREDENTIALS\"] = 'belgrade-center-f8d98197d043.json'"
   ]
  },
  {
   "cell_type": "code",
   "execution_count": 3,
   "id": "6ff5a11a-afd0-4607-9f6d-c3581bb31a43",
   "metadata": {},
   "outputs": [],
   "source": [
    "client = vision.ImageAnnotatorClient()"
   ]
  },
  {
   "cell_type": "code",
   "execution_count": null,
   "id": "c0f050f4-3b41-4bcf-8653-ed559f1aa8a3",
   "metadata": {},
   "outputs": [],
   "source": []
  },
  {
   "cell_type": "markdown",
   "id": "03021b41-d42b-4e07-990c-a8325b255669",
   "metadata": {},
   "source": [
    "Example 1"
   ]
  },
  {
   "cell_type": "code",
   "execution_count": 4,
   "id": "731008a4-47cc-46ea-bd56-4c6f74475626",
   "metadata": {},
   "outputs": [],
   "source": [
    "image_file = '../../Downloads/WhatsApp Image 2023-12-08 at 14.37.00_b3380c59.jpg'"
   ]
  },
  {
   "cell_type": "code",
   "execution_count": 5,
   "id": "97ff2283-949c-4e0e-af69-e5dbc5790b09",
   "metadata": {},
   "outputs": [],
   "source": [
    "with open(image_file, 'rb') as f:\n",
    "    content = f.read()"
   ]
  },
  {
   "cell_type": "code",
   "execution_count": 6,
   "id": "5a535d2f-ef57-4217-a0f1-74f9828f3ed8",
   "metadata": {},
   "outputs": [],
   "source": [
    "image = Image(content=content)"
   ]
  },
  {
   "cell_type": "code",
   "execution_count": 7,
   "id": "3ab6ed91-e580-4df1-820d-13e5988721fd",
   "metadata": {},
   "outputs": [],
   "source": [
    "response11 = client.annotate_image({\n",
    "  'image': image,\n",
    "  'features': [{'type_': vision.Feature.Type.TEXT_DETECTION}]\n",
    "})"
   ]
  },
  {
   "cell_type": "code",
   "execution_count": 8,
   "id": "2e5665b2-9f6a-4043-95c9-915b91c2abff",
   "metadata": {},
   "outputs": [
    {
     "name": "stdout",
     "output_type": "stream",
     "text": [
      "7. Beauftragung Dritter\n",
      "Der freie Mitarbeiter ist nach vorheriger schriftlicher\n",
      "Zustimmung der Gesellschaft berechtigt, Dritte zu\n",
      "beauftragen, ihn bei der Ausübung seiner Tätigkeit zu\n",
      "unterstützen. Die Gesellschaft wird ihre Zustimmung\n",
      "nur verweigern, wenn ihre berechtigten Interessen\n",
      "gefährdet sind. Sofern der freie Mitarbeiter Dritte zu\n",
      "seiner Unterstützung einsetzt, stehen diese\n",
      "ausschließlich in vertraglicher Beziehung zu ihm. Der\n",
      "freie Mitarbeiter verpflichtet sich, einem etwa\n",
      "eingesetzten Dritten eine dieser Vereinbarung\n",
      "entsprechende Geheimhaltungspflicht aufzuerlegen.\n",
      "8. Wettbewerbsverbot\n",
      "Der freie Mitarbeiter ist berechtigt, für weitere\n",
      "Auftraggeber national und international tätig zu\n",
      "werden. Er verpflichtet sich jedoch, während der Dauer\n",
      "dieses Vertrages für kein Unternehmen, das mit der\n",
      "Gesellschaft oder einem ihr verbundenen\n",
      "Unternehmen im Wettbewerb steht, tätig zu werden. Er\n",
      "verpflichtet sich insbesondere, zu keinem solchen\n",
      "Unternehmen in Dienst oder Arbeit zu treten, keinen\n",
      "Beratervertrag oder freien Mitarbeitervertrag\n",
      "abzuschließen, es weder zu erwerben noch sich\n",
      "mittelbar oder unmittelbar an ihm zu beteiligen. Dem\n",
      "Berater ist es ferner untersagt, ein Konkurrenz-\n",
      "unternehmen zu gründen.\n",
      "Der Berater wird der Gesellschaft die Aufnahme einer\n",
      "solchen Tätigkeit anzeigen, wenn Zweifel bestehen, ob\n",
      "diese Tätigkeit mit der Tätigkeit für die Gesellschaft zu\n",
      "vereinbaren ist oder zu einem Interessenkonflikt führen\n",
      "kann, und wird eine solche Tätigkeit nur nach\n",
      "schriftlicher Zustimmung der Gesellschaft auf nehmen.\n",
      "9.\n",
      "Verschwiegenheits-/ Herausgabepflicht\n",
      "Der freie Mitarbeiter ist verpflichtet, über alle\n",
      "Geschäftsgeheimnisse (Geheimnisse\") Stillschweigen\n",
      "zu bewahren. Geschäftsgeheimnisse sind solche im\n",
      "Sinne des § 2 Nr. 1 des Geschäftsgeheimnisgesetzes\n",
      "(GeschGehG). Der freie Mitarbeiter ist ferner zur\n",
      "Geheimhaltung von betrieblichen Angelegenheiten\n",
      "verpflichtet, die ein Vorgesetzter als vertraulich\n",
      "bezeichnet hat oder die offenkundig vertraulicher Natur\n",
      "sind („vertrauliche Angelegenheiten\").\n",
      "Die Vertraulichkeitspflicht gilt auch gegenüber\n",
      "Beschäftigten der Gesellschaft, soweit diese aufgrund\n",
      "Kenntnis des\n",
      "nicht zur\n",
      "ihrer Dienststellung\n",
      "Geheimnisses bzw. der vertraulichen Angelegenheit\n",
      "page 3/7\n",
      "7. Third Party Engagement\n",
      "The Freelancer is entitled to engage third parties to\n",
      "support him in carrying out his tasks, provided the\n",
      "Company gave its prior written consent. The Company\n",
      "shall only withhold its consent if its legitimate interests are\n",
      "at risk. If the Freelancer engages third parties they are in\n",
      "sole contractual relation with the Freelancer. The\n",
      "Freelancer is obliged to impose on an engaged third party\n",
      "a duty of confidentiality in conformity this agreement.\n",
      "8. Prohibition of Competition\n",
      "The Freelancer may act for other clients nationally or\n",
      "internationally. He is obliged, for the term of this\n",
      "agreement, not to work independently, dependently or in\n",
      "any other way for any company that is in direct or indirect\n",
      "competition with the Company or that is affiliated with the\n",
      "Company. He especially shall not provide services, shall\n",
      "not enter into employment, shall not conclude consultancy\n",
      "agreements or freelance agreements. Equally, he is not\n",
      "permitted, to establish or aquire, or hold a direct or indirect\n",
      "interest in such a company, to establish such company or\n",
      "to engage in similar activities.\n",
      "The Freelancer will notify the Company about such\n",
      "commencing business if there is doubt whether it is in\n",
      "conformity with the tasks under this agreement or whether\n",
      "a conflict of interests may arise. The Freelancer shall\n",
      "commence such business only after written consent of the\n",
      "Company. The Freelancer is obligated to immediately\n",
      "inform the Company about any other occupation.\n",
      "(dependent or independent) that might hinder the\n",
      "Freelancer in fulfilling his duties with the Company and\n",
      "might interfere with operational interests of the Company.\n",
      "Confidentiality, Return of Documents\n",
      "The Freelancer is obligated to keep confidential all trade\n",
      "secrets (\"Secrets\"). Trade secrets are those in the\n",
      "meaning of Sec. 2 No. 1 of the German Trade Secret Act\n",
      "(GeschGehG). Furthermore, the Freelancer shall keep\n",
      "confidential all business matters that a superior has either\n",
      "designated as confidential or that are obviously of a\n",
      "confidential nature (\"Confidential Matters\").\n",
      "9.\n",
      "Such duty of confidentiality shall also apply vis-à-vis other\n",
      "Freelancers of the Company to the extent that they are not\n",
      "entitled to gain knowledge of any Secret or Confidential\n",
      "Matter by reason of their respective position.\n"
     ]
    }
   ],
   "source": [
    "print(response11.full_text_annotation.text)"
   ]
  },
  {
   "cell_type": "code",
   "execution_count": null,
   "id": "9684a6ef-966b-4424-bcb3-2463f59c0616",
   "metadata": {},
   "outputs": [],
   "source": []
  },
  {
   "cell_type": "code",
   "execution_count": null,
   "id": "fc9f714f-2777-475d-a456-7d0907cba7e8",
   "metadata": {},
   "outputs": [],
   "source": []
  },
  {
   "cell_type": "code",
   "execution_count": 11,
   "id": "5ce57932-c1e8-462e-b021-35079f9ff640",
   "metadata": {},
   "outputs": [],
   "source": [
    "image_file = '../../Downloads/371532891_1358145315087767_5715137887576849305_n.jpg'"
   ]
  },
  {
   "cell_type": "code",
   "execution_count": 12,
   "id": "686581ce-bdc1-4b91-8019-0cc23355db5f",
   "metadata": {},
   "outputs": [],
   "source": [
    "with open(image_file, 'rb') as f:\n",
    "    content = f.read()"
   ]
  },
  {
   "cell_type": "code",
   "execution_count": 13,
   "id": "7f834b5d-da1c-4354-993f-c474765842f8",
   "metadata": {},
   "outputs": [],
   "source": [
    "image = Image(content=content)"
   ]
  },
  {
   "cell_type": "code",
   "execution_count": 16,
   "id": "116c3033-c8b6-420a-8ad7-d561a38e5e2f",
   "metadata": {},
   "outputs": [],
   "source": [
    "response12 = client.annotate_image({\n",
    "  'image': image,\n",
    "  'features': [{'type_': vision.Feature.Type.TEXT_DETECTION}]\n",
    "})"
   ]
  },
  {
   "cell_type": "code",
   "execution_count": 17,
   "id": "883c931a-2ad0-43c2-87da-e856249300c3",
   "metadata": {},
   "outputs": [
    {
     "name": "stdout",
     "output_type": "stream",
     "text": [
      "Podrška Donošenju Odluka:\n",
      "•\n",
      "Tehnologije: Sistem za podršku odlučivanju (DSS), Ekspertski sistemi.\n",
      "Prednosti: Pruža preporuke zasnovane na podacima i ekspertskom znanju, podržavajući tim u\n",
      "donošenju informisanih odluka.\n",
      "Kada koristiti: Kada je potrebna podrška u analizi kompleksnih scenarija i donošenju odluka.\n",
      "Komunikacija i Kolaboracija:\n",
      "Tehnologije: Chatbots, Alati za kolaboraciju zasnovani na AI kao što su Slack integracije.\n",
      "Prednosti: Omogućava efikasniju komunikaciju unutar tima i sa klijentima, automatizuje\n",
      "rutinske komunikacijske zadatke.\n",
      "• Kada koristiti: Kada je važno poboljšati komunikaciju i kolaboraciju unutar tima.\n",
      "●\n",
      "Alati i Pristup Resenju\n",
      "U zavisnosti od funkcionalnosti samog AI Managera, bili bi upotrebljeni sledeci alati i algoritmi:\n",
      "Predikcija i Optimizacija Resursa:\n",
      "• Algoritmi: Linearna regresija, Random Forest, Neuralne mreže.\n",
      "Prednosti: Omogućava preciznu alokaciju resursa i optimizaciju vremena i budžeta.\n",
      "Automatizacija Procesa:\n",
      "Tehnologije: Automatizacija poslovnih procesa (BPA), Robotic Process Automation (RPA).\n",
      "• Prednosti: Smanjuje manuelni rad, povećava efikasnost i smanjuje greške.\n",
      "Kada koristiti: Kada postoje ponavljajući i predvidljivi procesi koji se mogu automatizovati.\n",
      "Predikcija Problema i Rizika:\n",
      "Algoritmi: Logistička regresija, Support Vector Machines (SVM), Neuralne mreže.\n",
      "Prednosti: Omogućava rano identifikovanje potencijalnih problema i rizika, omogućavajući\n",
      "bolje planiranje i upravljanje rizicima.\n",
      "• Kada koristiti: Kada imate etiketirane podatke o prethodnim problemima i rizicima.\n",
      "0\n",
      "Praćenje Napretka Projekta:\n",
      "Algoritmi: Vremenske serije, Algoritmi za clustering (npr. K-means).\n",
      "Prednosti: Pruža uvid u trenutni status projekta i pomaže u identifikaciji kašnjenja ili devijacija\n",
      "od plana.\n",
      "• Kada koristiti: Kada je važno pratiti napredak projekta u realnom vremenu i reagovati na\n",
      "promene.\n",
      "Postoji nekoliko nacina da se pristupi resenju a to su:\n",
      "- Koriscenje Api-ja, platforme kao sto su youtrack I trelo nude svoje apije pomocu kojih bi se mogle\n",
      "realizovati slicne aplikacije\n",
      "●\n",
      "IA\n",
      "[vinqu\n",
      "Al 1st Line Job Agent\n",
      "- Izrada Plugina, platforma kao sto je recimo Jira podrzava izradu dodatnih funkcionalnosti na njihovu\n",
      "vec postojecu aplikaciju\n",
      "- Izrada resenja od nule\n",
      "*\n",
      "ONSVI\n"
     ]
    }
   ],
   "source": [
    "print(response12.full_text_annotation.text)"
   ]
  },
  {
   "cell_type": "code",
   "execution_count": null,
   "id": "17018120-b975-4601-b8e0-bbe1ee206dcb",
   "metadata": {},
   "outputs": [],
   "source": []
  },
  {
   "cell_type": "markdown",
   "id": "02f3a37e-429d-4eef-930f-dc1a2ed01739",
   "metadata": {},
   "source": [
    "Example2"
   ]
  },
  {
   "cell_type": "code",
   "execution_count": 17,
   "id": "baf61633-85a2-4805-ba65-13775ff59501",
   "metadata": {},
   "outputs": [
    {
     "name": "stdout",
     "output_type": "stream",
     "text": [
      "УГОВОР О ПРОДАЈИ НЕПОКРЕТНОСТИ\n",
      "Закључен дана 19.10.2023.године:\n",
      "1. PRIVREDNO DRUŠTVO ZA TURISTIČKU DELATNOST SPRINGS DOO\n",
      "ZLATIBOR, са седиштем у Чајетини, Златибор, Смиљански закоси бб, матични број\n",
      "20266007, ПИБ: 104907758, кога као законски заступник заступа директор Милош\n",
      "(Милорад) Дедић, ЈМБГ:1910965790039 (у даљем тексту Продавац) са једне стране\n",
      "2. IFI B SPORT doo Beograd-Novi Beograd, ca седиштем у у Београду - Нови Београд,\n",
      "улица Шпанских бораца број 36А, матични број: 21596582, ПИБ: 112046149, кога као\n",
      "законски заступник заступа директор Иван (Небојша) Дудић, ЈМБГ 0111979780024 (\n",
      "даљем тексту Купац) са друге стране.\n",
      "Члан 1.\n",
      "Уговорне стране су сагласне да је Продавац носилац права приватне својине са обимом\n",
      "удела 1/1 кат.парцеле 4779/12 Ко Чајетина, на потезу Шиповик, површине 502 м2 ,по\n",
      "врсти: грађевинско земљиште ван граница ГГЗ, по култури : остало вештачки створено\n",
      "неплодно земљиште све уписано у листу непокретности број 5722 Ко Чајетина.\n",
      "Члан 2.\n",
      "Уговорне стране сагласно констатују да Купац купује,а Продавац продаје непокретност\n",
      "ближе описану у члану 1.овог уговора за купопродајну цену у износу од укупно\n",
      "20.000,00 ЕУР-а (словима: двадесет хиљада еура) у динарској противвредности по\n",
      "средњем курсу НБС-а, важећем на дан исплате.\n",
      "Купац се обавезује да купопродајну цену из става 1. Овог члана исплати Продавцу\n",
      "најдаље 20 дана од потписивања уговора и то на динарски рачун Продавца.\n",
      "Члан 3.\n",
      "Продавац као власник парцеле 4779/3 Ко Чајетина је сагласан да се на основу овог\n",
      "Уговора установи право службености пролаза преко те парцеле у корист кат.парцеле\n",
      "4779/12 Ко Чајетина која је и предмет купопродаје, као и да се право служености пролаза\n",
      "укњижи код надлежног катастра непокретности.\n",
      "Члан 4.\n",
      "Уговорне стране сагласно констатују да Купац улази у посед непокретности одмах по\n",
      "исплати купопродајне цене.\n"
     ]
    }
   ],
   "source": [
    "image_file = './image_6483441 (1).JPG'\n",
    "with open(image_file, 'rb') as f:\n",
    "    content = f.read()\n",
    "image = Image(content=content)\n",
    "response21 = client.annotate_image({\n",
    "  'image': image,\n",
    "  'features': [{'type_': vision.Feature.Type.TEXT_DETECTION}]\n",
    "})\n",
    "print(response21.full_text_annotation.text)"
   ]
  },
  {
   "cell_type": "code",
   "execution_count": null,
   "id": "f9e88c1d-7235-40d2-b4bb-09bdae403196",
   "metadata": {},
   "outputs": [],
   "source": []
  },
  {
   "cell_type": "markdown",
   "id": "f658953f-aee6-49b0-b582-8c1ad2d5b11a",
   "metadata": {},
   "source": [
    "example3"
   ]
  },
  {
   "cell_type": "code",
   "execution_count": 1,
   "id": "e50fc569-e71b-4b73-9d44-a7b6462f630c",
   "metadata": {},
   "outputs": [],
   "source": [
    "image_file = '../../Downloads/MicrosoftTeams-image.png'"
   ]
  },
  {
   "cell_type": "code",
   "execution_count": 2,
   "id": "db04722d-abd7-44d4-b9d8-cdb217422868",
   "metadata": {},
   "outputs": [],
   "source": [
    "with open(image_file, 'rb') as f:\n",
    "    content = f.read()"
   ]
  },
  {
   "cell_type": "code",
   "execution_count": 6,
   "id": "62c86788-e4d6-4608-b0a1-63a12b80305e",
   "metadata": {},
   "outputs": [],
   "source": [
    "image = Image(content=content)"
   ]
  },
  {
   "cell_type": "code",
   "execution_count": 7,
   "id": "2142234d-36a1-4550-8c17-b27ef8ea9281",
   "metadata": {},
   "outputs": [],
   "source": [
    "response3 = client.annotate_image({\n",
    "  'image': image,\n",
    "  'features': [{'type_': vision.Feature.Type.TEXT_DETECTION}]\n",
    "})"
   ]
  },
  {
   "cell_type": "code",
   "execution_count": 8,
   "id": "b1789cdb-fe76-4cd5-aeb0-432d4981999a",
   "metadata": {},
   "outputs": [
    {
     "name": "stdout",
     "output_type": "stream",
     "text": [
      "Welche Pflichtangaben muss eine Rechnung enthalten? Es empfiehlt sich\n",
      "folgende 10 Bestandteile grundsätzlich in die Rechnungen zu integrieren.\n",
      "1 Der vollständige Name sowie die Anschrift des Unternehmens\n",
      "(Rechnungsadresse)\n",
      "Steuernummer oder die Umsatzsteueridentifikationsnummer (USt-IdNr.)\n",
      "3 Vollständiger Name und Anschrift des Kunden\n",
      "4 Ausstellungsdatum / Rechnungsdatum\n",
      "5 Fortlaufende Rechnungsnummer\n",
      "Zeitpunkt der Lieferung /Leistung\n",
      "Menge und die Art der Lieferung bzw. der Umfang und die Art der Leistung\n",
      "Entgelt für die Lieferung / Leistung in Netto\n",
      "Der auf das Nettoentgelt entfallende Umsatzsteuersatz\n",
      "Der auf das Nettoentgelt entfallende Umsatzsteuerbetrag\n",
      "2\n",
      "6\n",
      "7\n",
      "8\n",
      "10\n"
     ]
    }
   ],
   "source": [
    "print(response3.full_text_annotation.text)"
   ]
  },
  {
   "cell_type": "code",
   "execution_count": null,
   "id": "303b132b-490d-42bd-b346-09929a2213d4",
   "metadata": {},
   "outputs": [],
   "source": []
  }
 ],
 "metadata": {
  "kernelspec": {
   "display_name": "Python (GPU)",
   "language": "python",
   "name": "gpu_env"
  },
  "language_info": {
   "codemirror_mode": {
    "name": "ipython",
    "version": 3
   },
   "file_extension": ".py",
   "mimetype": "text/x-python",
   "name": "python",
   "nbconvert_exporter": "python",
   "pygments_lexer": "ipython3",
   "version": "3.11.6"
  }
 },
 "nbformat": 4,
 "nbformat_minor": 5
}
